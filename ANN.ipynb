{
  "nbformat": 4,
  "nbformat_minor": 0,
  "metadata": {
    "colab": {
      "provenance": []
    },
    "kernelspec": {
      "name": "python3",
      "display_name": "Python 3"
    }
  },
  "cells": [
    {
      "cell_type": "markdown",
      "metadata": {
        "id": "Z-jZGC0q0aiY"
      },
      "source": [
        "# Deep Learning via ANN"
      ]
    },
    {
      "cell_type": "markdown",
      "metadata": {
        "id": "jE4Rc_OO0eJM"
      },
      "source": [
        "## Importing libraries"
      ]
    },
    {
      "cell_type": "code",
      "source": [
        "import numpy as np\n",
        "import pandas as pd\n",
        "import tensorflow as tf"
      ],
      "metadata": {
        "id": "6bvRTpoHDaz4"
      },
      "execution_count": 1,
      "outputs": []
    },
    {
      "cell_type": "code",
      "metadata": {
        "colab": {
          "base_uri": "https://localhost:8080/",
          "height": 35
        },
        "id": "o0Yhbfo4x39t",
        "outputId": "7e7888d9-d2e2-442e-847b-1de16490b59d"
      },
      "source": [
        "tf.__version__"
      ],
      "execution_count": 2,
      "outputs": [
        {
          "output_type": "execute_result",
          "data": {
            "text/plain": [
              "'2.12.0'"
            ],
            "application/vnd.google.colaboratory.intrinsic+json": {
              "type": "string"
            }
          },
          "metadata": {},
          "execution_count": 2
        }
      ]
    },
    {
      "cell_type": "markdown",
      "metadata": {
        "id": "A9-xGHd20gY1"
      },
      "source": [
        "## Importing dataset"
      ]
    },
    {
      "cell_type": "code",
      "source": [
        "dataset = pd.read_csv('American Express User Exit Prediction.csv')\n",
        "X = dataset.iloc[:, 0:-1].values\n",
        "y = dataset.iloc[:, -1].values"
      ],
      "metadata": {
        "id": "q3FPH2d1ECzE"
      },
      "execution_count": 3,
      "outputs": []
    },
    {
      "cell_type": "code",
      "metadata": {
        "colab": {
          "base_uri": "https://localhost:8080/"
        },
        "id": "WAFCffJ-06iL",
        "outputId": "a65a3c43-01de-4619-cb92-cf725c9c26c0"
      },
      "source": [
        "print(X)"
      ],
      "execution_count": null,
      "outputs": [
        {
          "output_type": "stream",
          "text": [
            "[[553 'Delhi' 'Female' ... 4 1 274150]\n",
            " [447 'Bengaluru' 'Male' ... 4 1 519360]\n",
            " [501 'Delhi' 'Female' ... 4 1 545501]\n",
            " ...\n",
            " [627 'Mumbai' 'Female' ... 4 0 494067]\n",
            " [600 'Bengaluru' 'Female' ... 2 1 109375]\n",
            " [553 'Delhi' 'Male' ... 4 1 180031]]\n"
          ],
          "name": "stdout"
        }
      ]
    },
    {
      "cell_type": "markdown",
      "metadata": {
        "id": "Q_e8LuHYyX5r"
      },
      "source": [
        "## Encoding categorical data"
      ]
    },
    {
      "cell_type": "markdown",
      "metadata": {
        "id": "NFKMHJzhy4pE"
      },
      "source": [
        "### Gender column : Label Encoding"
      ]
    },
    {
      "cell_type": "code",
      "source": [
        "from sklearn.preprocessing import LabelEncoder\n",
        "label_encoder = LabelEncoder()\n",
        "X[:, 2] = label_encoder.fit_transform(X[:, 2])"
      ],
      "metadata": {
        "id": "Cqrx20wNRIVe"
      },
      "execution_count": 4,
      "outputs": []
    },
    {
      "cell_type": "code",
      "metadata": {
        "colab": {
          "base_uri": "https://localhost:8080/"
        },
        "id": "biOnK7s2yvt-",
        "outputId": "e7cd652d-b8bf-49f5-d7fd-d0fcfc008f2c"
      },
      "source": [
        "print(X)"
      ],
      "execution_count": 5,
      "outputs": [
        {
          "output_type": "stream",
          "name": "stdout",
          "text": [
            "[[553 'Delhi' 0 ... 4 1 274150]\n",
            " [447 'Bengaluru' 1 ... 4 1 519360]\n",
            " [501 'Delhi' 0 ... 4 1 545501]\n",
            " ...\n",
            " [627 'Mumbai' 0 ... 4 0 494067]\n",
            " [600 'Bengaluru' 0 ... 2 1 109375]\n",
            " [553 'Delhi' 1 ... 4 1 180031]]\n"
          ]
        }
      ]
    },
    {
      "cell_type": "markdown",
      "metadata": {
        "id": "W27VpQo7zRUo"
      },
      "source": [
        "### Geography column : One hot Encoding"
      ]
    },
    {
      "cell_type": "code",
      "source": [
        "from sklearn.compose import ColumnTransformer\n",
        "from sklearn.preprocessing import OneHotEncoder\n",
        "ct = ColumnTransformer(transformers = [('encoder', OneHotEncoder(), [1])], remainder='passthrough')\n",
        "X = np.array(ct.fit_transform(X))"
      ],
      "metadata": {
        "id": "iPimYzVWRgkU"
      },
      "execution_count": 6,
      "outputs": []
    },
    {
      "cell_type": "code",
      "metadata": {
        "colab": {
          "base_uri": "https://localhost:8080/"
        },
        "id": "Lt13uSQ8ziR4",
        "outputId": "205ef474-198f-445b-cf56-45197c654d11"
      },
      "source": [
        "print(X)"
      ],
      "execution_count": 7,
      "outputs": [
        {
          "output_type": "stream",
          "name": "stdout",
          "text": [
            "[[0.0 1.0 0.0 ... 4 1 274150]\n",
            " [1.0 0.0 0.0 ... 4 1 519360]\n",
            " [0.0 1.0 0.0 ... 4 1 545501]\n",
            " ...\n",
            " [0.0 0.0 1.0 ... 4 0 494067]\n",
            " [1.0 0.0 0.0 ... 2 1 109375]\n",
            " [0.0 1.0 0.0 ... 4 1 180031]]\n"
          ]
        }
      ]
    },
    {
      "cell_type": "markdown",
      "metadata": {
        "id": "8REFJFGC0lRN"
      },
      "source": [
        "## Splitting dataset into Training & Test set"
      ]
    },
    {
      "cell_type": "code",
      "source": [
        "from sklearn.model_selection import train_test_split\n",
        "X_train, X_test, y_train, y_test = train_test_split(X, y, test_size = 0.2, random_state = 21)"
      ],
      "metadata": {
        "id": "w7IiS0-_TCtO"
      },
      "execution_count": 9,
      "outputs": []
    },
    {
      "cell_type": "markdown",
      "metadata": {
        "id": "9WJ3OvMf2Mpz"
      },
      "source": [
        "## Feature Scaling"
      ]
    },
    {
      "cell_type": "code",
      "source": [
        "from sklearn.preprocessing import StandardScaler\n",
        "sc = StandardScaler()\n",
        "X_train = sc.fit_transform(X_train)\n",
        "X_test = sc.transform(X_test)"
      ],
      "metadata": {
        "id": "EXtkZThMTcnV"
      },
      "execution_count": 10,
      "outputs": []
    },
    {
      "cell_type": "markdown",
      "metadata": {
        "id": "2QUFYaoH00H6"
      },
      "source": [
        "## ANN"
      ]
    },
    {
      "cell_type": "markdown",
      "metadata": {
        "id": "fmmakWMe2Xe0"
      },
      "source": [
        "### Initialization"
      ]
    },
    {
      "cell_type": "code",
      "metadata": {
        "id": "2iFA5Qkn49UW"
      },
      "source": [
        "ann = tf.keras.models.Sequential()"
      ],
      "execution_count": null,
      "outputs": []
    },
    {
      "cell_type": "markdown",
      "metadata": {
        "id": "oZs3tLKX2a0c"
      },
      "source": [
        "### Adding input layer and first hidden layer"
      ]
    },
    {
      "cell_type": "code",
      "metadata": {
        "id": "BqUEsAVP5Gp7"
      },
      "source": [
        "ann.add(tf.keras.layers.Dense(units=6, activation='relu'))"
      ],
      "execution_count": null,
      "outputs": []
    },
    {
      "cell_type": "markdown",
      "metadata": {
        "id": "3VMq7Dzx2inS"
      },
      "source": [
        "### Adding second hidden layer"
      ]
    },
    {
      "cell_type": "code",
      "metadata": {
        "id": "5iqN64Qb5XpM"
      },
      "source": [
        "ann.add(tf.keras.layers.Dense(units=6, activation='relu'))"
      ],
      "execution_count": null,
      "outputs": []
    },
    {
      "cell_type": "markdown",
      "metadata": {
        "id": "rf0PPM2O2mY4"
      },
      "source": [
        "### Adding output layer"
      ]
    },
    {
      "cell_type": "code",
      "metadata": {
        "id": "16bVnSmy5izv"
      },
      "source": [
        "ann.add(tf.keras.layers.Dense(units=1, activation='sigmoid'))"
      ],
      "execution_count": null,
      "outputs": []
    },
    {
      "cell_type": "markdown",
      "metadata": {
        "id": "-Dw4Khi70u9g"
      },
      "source": [
        "## ANN Training"
      ]
    },
    {
      "cell_type": "markdown",
      "metadata": {
        "id": "3DGW0tMz6vZF"
      },
      "source": [
        "### Compiling ANN"
      ]
    },
    {
      "cell_type": "code",
      "metadata": {
        "id": "qpRleG206-Cy"
      },
      "source": [
        "ann.compile(optimizer = 'adam', loss = 'binary_crossentropy', metrics = ['accuracy'])"
      ],
      "execution_count": null,
      "outputs": []
    },
    {
      "cell_type": "markdown",
      "metadata": {
        "id": "JcIyviNr2tiO"
      },
      "source": [
        "### Training on training dataset"
      ]
    },
    {
      "cell_type": "code",
      "metadata": {
        "colab": {
          "base_uri": "https://localhost:8080/"
        },
        "id": "U411c0oi5pGF",
        "outputId": "0585d42e-94cb-4438-832b-6c4d9ee8c776"
      },
      "source": [
        "ann.fit(X_train, y_train, batch_size = 32, epochs = 120)"
      ],
      "execution_count": 14,
      "outputs": [
        {
          "output_type": "stream",
          "name": "stdout",
          "text": [
            "Epoch 1/120\n",
            "249/249 [==============================] - 2s 2ms/step - loss: 0.7164 - accuracy: 0.5518\n",
            "Epoch 2/120\n",
            "249/249 [==============================] - 0s 2ms/step - loss: 0.5185 - accuracy: 0.7920\n",
            "Epoch 3/120\n",
            "249/249 [==============================] - 0s 2ms/step - loss: 0.4763 - accuracy: 0.7921\n",
            "Epoch 4/120\n",
            "249/249 [==============================] - 0s 2ms/step - loss: 0.4569 - accuracy: 0.7912\n",
            "Epoch 5/120\n",
            "249/249 [==============================] - 0s 2ms/step - loss: 0.4461 - accuracy: 0.7900\n",
            "Epoch 6/120\n",
            "249/249 [==============================] - 1s 3ms/step - loss: 0.4395 - accuracy: 0.7940\n",
            "Epoch 7/120\n",
            "249/249 [==============================] - 2s 6ms/step - loss: 0.4342 - accuracy: 0.7974\n",
            "Epoch 8/120\n",
            "249/249 [==============================] - 2s 7ms/step - loss: 0.4289 - accuracy: 0.8033\n",
            "Epoch 9/120\n",
            "249/249 [==============================] - 1s 4ms/step - loss: 0.4223 - accuracy: 0.8077\n",
            "Epoch 10/120\n",
            "249/249 [==============================] - 1s 4ms/step - loss: 0.4151 - accuracy: 0.8134\n",
            "Epoch 11/120\n",
            "249/249 [==============================] - 1s 4ms/step - loss: 0.4090 - accuracy: 0.8190\n",
            "Epoch 12/120\n",
            "249/249 [==============================] - 1s 5ms/step - loss: 0.4027 - accuracy: 0.8226\n",
            "Epoch 13/120\n",
            "249/249 [==============================] - 1s 3ms/step - loss: 0.3971 - accuracy: 0.8266\n",
            "Epoch 14/120\n",
            "249/249 [==============================] - 1s 4ms/step - loss: 0.3922 - accuracy: 0.8297\n",
            "Epoch 15/120\n",
            "249/249 [==============================] - 1s 3ms/step - loss: 0.3878 - accuracy: 0.8291\n",
            "Epoch 16/120\n",
            "249/249 [==============================] - 0s 2ms/step - loss: 0.3834 - accuracy: 0.8333\n",
            "Epoch 17/120\n",
            "249/249 [==============================] - 0s 2ms/step - loss: 0.3802 - accuracy: 0.8343\n",
            "Epoch 18/120\n",
            "249/249 [==============================] - 0s 2ms/step - loss: 0.3775 - accuracy: 0.8330\n",
            "Epoch 19/120\n",
            "249/249 [==============================] - 0s 2ms/step - loss: 0.3750 - accuracy: 0.8360\n",
            "Epoch 20/120\n",
            "249/249 [==============================] - 0s 2ms/step - loss: 0.3734 - accuracy: 0.8357\n",
            "Epoch 21/120\n",
            "249/249 [==============================] - 1s 2ms/step - loss: 0.3717 - accuracy: 0.8362\n",
            "Epoch 22/120\n",
            "249/249 [==============================] - 1s 3ms/step - loss: 0.3704 - accuracy: 0.8374\n",
            "Epoch 23/120\n",
            "249/249 [==============================] - 1s 3ms/step - loss: 0.3690 - accuracy: 0.8411\n",
            "Epoch 24/120\n",
            "249/249 [==============================] - 1s 3ms/step - loss: 0.3683 - accuracy: 0.8426\n",
            "Epoch 25/120\n",
            "249/249 [==============================] - 1s 3ms/step - loss: 0.3673 - accuracy: 0.8427\n",
            "Epoch 26/120\n",
            "249/249 [==============================] - 0s 2ms/step - loss: 0.3667 - accuracy: 0.8431\n",
            "Epoch 27/120\n",
            "249/249 [==============================] - 0s 2ms/step - loss: 0.3656 - accuracy: 0.8445\n",
            "Epoch 28/120\n",
            "249/249 [==============================] - 0s 2ms/step - loss: 0.3652 - accuracy: 0.8440\n",
            "Epoch 29/120\n",
            "249/249 [==============================] - 0s 2ms/step - loss: 0.3642 - accuracy: 0.8447\n",
            "Epoch 30/120\n",
            "249/249 [==============================] - 1s 2ms/step - loss: 0.3637 - accuracy: 0.8457\n",
            "Epoch 31/120\n",
            "249/249 [==============================] - 0s 2ms/step - loss: 0.3633 - accuracy: 0.8461\n",
            "Epoch 32/120\n",
            "249/249 [==============================] - 0s 2ms/step - loss: 0.3631 - accuracy: 0.8462\n",
            "Epoch 33/120\n",
            "249/249 [==============================] - 0s 2ms/step - loss: 0.3627 - accuracy: 0.8469\n",
            "Epoch 34/120\n",
            "249/249 [==============================] - 0s 2ms/step - loss: 0.3621 - accuracy: 0.8459\n",
            "Epoch 35/120\n",
            "249/249 [==============================] - 0s 2ms/step - loss: 0.3620 - accuracy: 0.8451\n",
            "Epoch 36/120\n",
            "249/249 [==============================] - 0s 2ms/step - loss: 0.3613 - accuracy: 0.8480\n",
            "Epoch 37/120\n",
            "249/249 [==============================] - 0s 2ms/step - loss: 0.3614 - accuracy: 0.8475\n",
            "Epoch 38/120\n",
            "249/249 [==============================] - 0s 2ms/step - loss: 0.3611 - accuracy: 0.8489\n",
            "Epoch 39/120\n",
            "249/249 [==============================] - 0s 2ms/step - loss: 0.3612 - accuracy: 0.8469\n",
            "Epoch 40/120\n",
            "249/249 [==============================] - 0s 2ms/step - loss: 0.3603 - accuracy: 0.8480\n",
            "Epoch 41/120\n",
            "249/249 [==============================] - 0s 2ms/step - loss: 0.3604 - accuracy: 0.8486\n",
            "Epoch 42/120\n",
            "249/249 [==============================] - 0s 2ms/step - loss: 0.3603 - accuracy: 0.8470\n",
            "Epoch 43/120\n",
            "249/249 [==============================] - 0s 2ms/step - loss: 0.3598 - accuracy: 0.8489\n",
            "Epoch 44/120\n",
            "249/249 [==============================] - 0s 2ms/step - loss: 0.3596 - accuracy: 0.8480\n",
            "Epoch 45/120\n",
            "249/249 [==============================] - 0s 2ms/step - loss: 0.3596 - accuracy: 0.8498\n",
            "Epoch 46/120\n",
            "249/249 [==============================] - 0s 2ms/step - loss: 0.3593 - accuracy: 0.8495\n",
            "Epoch 47/120\n",
            "249/249 [==============================] - 1s 3ms/step - loss: 0.3588 - accuracy: 0.8484\n",
            "Epoch 48/120\n",
            "249/249 [==============================] - 1s 2ms/step - loss: 0.3590 - accuracy: 0.8486\n",
            "Epoch 49/120\n",
            "249/249 [==============================] - 1s 3ms/step - loss: 0.3585 - accuracy: 0.8506\n",
            "Epoch 50/120\n",
            "249/249 [==============================] - 1s 3ms/step - loss: 0.3581 - accuracy: 0.8499\n",
            "Epoch 51/120\n",
            "249/249 [==============================] - 1s 2ms/step - loss: 0.3581 - accuracy: 0.8517\n",
            "Epoch 52/120\n",
            "249/249 [==============================] - 0s 2ms/step - loss: 0.3575 - accuracy: 0.8517\n",
            "Epoch 53/120\n",
            "249/249 [==============================] - 0s 2ms/step - loss: 0.3572 - accuracy: 0.8503\n",
            "Epoch 54/120\n",
            "249/249 [==============================] - 0s 2ms/step - loss: 0.3569 - accuracy: 0.8501\n",
            "Epoch 55/120\n",
            "249/249 [==============================] - 0s 2ms/step - loss: 0.3566 - accuracy: 0.8517\n",
            "Epoch 56/120\n",
            "249/249 [==============================] - 0s 2ms/step - loss: 0.3563 - accuracy: 0.8508\n",
            "Epoch 57/120\n",
            "249/249 [==============================] - 0s 2ms/step - loss: 0.3563 - accuracy: 0.8522\n",
            "Epoch 58/120\n",
            "249/249 [==============================] - 0s 2ms/step - loss: 0.3563 - accuracy: 0.8512\n",
            "Epoch 59/120\n",
            "249/249 [==============================] - 0s 2ms/step - loss: 0.3559 - accuracy: 0.8519\n",
            "Epoch 60/120\n",
            "249/249 [==============================] - 0s 2ms/step - loss: 0.3551 - accuracy: 0.8525\n",
            "Epoch 61/120\n",
            "249/249 [==============================] - 0s 2ms/step - loss: 0.3554 - accuracy: 0.8515\n",
            "Epoch 62/120\n",
            "249/249 [==============================] - 0s 2ms/step - loss: 0.3550 - accuracy: 0.8506\n",
            "Epoch 63/120\n",
            "249/249 [==============================] - 0s 2ms/step - loss: 0.3551 - accuracy: 0.8518\n",
            "Epoch 64/120\n",
            "249/249 [==============================] - 0s 2ms/step - loss: 0.3547 - accuracy: 0.8519\n",
            "Epoch 65/120\n",
            "249/249 [==============================] - 0s 2ms/step - loss: 0.3547 - accuracy: 0.8506\n",
            "Epoch 66/120\n",
            "249/249 [==============================] - 0s 2ms/step - loss: 0.3547 - accuracy: 0.8506\n",
            "Epoch 67/120\n",
            "249/249 [==============================] - 0s 2ms/step - loss: 0.3546 - accuracy: 0.8512\n",
            "Epoch 68/120\n",
            "249/249 [==============================] - 0s 2ms/step - loss: 0.3543 - accuracy: 0.8520\n",
            "Epoch 69/120\n",
            "249/249 [==============================] - 0s 2ms/step - loss: 0.3541 - accuracy: 0.8528\n",
            "Epoch 70/120\n",
            "249/249 [==============================] - 0s 2ms/step - loss: 0.3543 - accuracy: 0.8514\n",
            "Epoch 71/120\n",
            "249/249 [==============================] - 0s 2ms/step - loss: 0.3541 - accuracy: 0.8513\n",
            "Epoch 72/120\n",
            "249/249 [==============================] - 1s 2ms/step - loss: 0.3540 - accuracy: 0.8510\n",
            "Epoch 73/120\n",
            "249/249 [==============================] - 1s 3ms/step - loss: 0.3543 - accuracy: 0.8512\n",
            "Epoch 74/120\n",
            "249/249 [==============================] - 1s 3ms/step - loss: 0.3542 - accuracy: 0.8518\n",
            "Epoch 75/120\n",
            "249/249 [==============================] - 1s 3ms/step - loss: 0.3541 - accuracy: 0.8512\n",
            "Epoch 76/120\n",
            "249/249 [==============================] - 1s 3ms/step - loss: 0.3538 - accuracy: 0.8515\n",
            "Epoch 77/120\n",
            "249/249 [==============================] - 1s 2ms/step - loss: 0.3539 - accuracy: 0.8520\n",
            "Epoch 78/120\n",
            "249/249 [==============================] - 0s 2ms/step - loss: 0.3541 - accuracy: 0.8505\n",
            "Epoch 79/120\n",
            "249/249 [==============================] - 1s 2ms/step - loss: 0.3541 - accuracy: 0.8515\n",
            "Epoch 80/120\n",
            "249/249 [==============================] - 1s 2ms/step - loss: 0.3541 - accuracy: 0.8517\n",
            "Epoch 81/120\n",
            "249/249 [==============================] - 0s 2ms/step - loss: 0.3535 - accuracy: 0.8512\n",
            "Epoch 82/120\n",
            "249/249 [==============================] - 0s 2ms/step - loss: 0.3538 - accuracy: 0.8508\n",
            "Epoch 83/120\n",
            "249/249 [==============================] - 0s 2ms/step - loss: 0.3542 - accuracy: 0.8517\n",
            "Epoch 84/120\n",
            "249/249 [==============================] - 0s 2ms/step - loss: 0.3538 - accuracy: 0.8527\n",
            "Epoch 85/120\n",
            "249/249 [==============================] - 0s 2ms/step - loss: 0.3539 - accuracy: 0.8513\n",
            "Epoch 86/120\n",
            "249/249 [==============================] - 0s 2ms/step - loss: 0.3540 - accuracy: 0.8520\n",
            "Epoch 87/120\n",
            "249/249 [==============================] - 0s 2ms/step - loss: 0.3536 - accuracy: 0.8524\n",
            "Epoch 88/120\n",
            "249/249 [==============================] - 0s 2ms/step - loss: 0.3534 - accuracy: 0.8501\n",
            "Epoch 89/120\n",
            "249/249 [==============================] - 0s 2ms/step - loss: 0.3535 - accuracy: 0.8510\n",
            "Epoch 90/120\n",
            "249/249 [==============================] - 0s 2ms/step - loss: 0.3535 - accuracy: 0.8509\n",
            "Epoch 91/120\n",
            "249/249 [==============================] - 0s 2ms/step - loss: 0.3539 - accuracy: 0.8509\n",
            "Epoch 92/120\n",
            "249/249 [==============================] - 0s 2ms/step - loss: 0.3535 - accuracy: 0.8517\n",
            "Epoch 93/120\n",
            "249/249 [==============================] - 0s 2ms/step - loss: 0.3539 - accuracy: 0.8510\n",
            "Epoch 94/120\n",
            "249/249 [==============================] - 0s 2ms/step - loss: 0.3534 - accuracy: 0.8517\n",
            "Epoch 95/120\n",
            "249/249 [==============================] - 0s 2ms/step - loss: 0.3532 - accuracy: 0.8517\n",
            "Epoch 96/120\n",
            "249/249 [==============================] - 0s 2ms/step - loss: 0.3539 - accuracy: 0.8522\n",
            "Epoch 97/120\n",
            "249/249 [==============================] - 0s 2ms/step - loss: 0.3534 - accuracy: 0.8527\n",
            "Epoch 98/120\n",
            "249/249 [==============================] - 1s 2ms/step - loss: 0.3533 - accuracy: 0.8506\n",
            "Epoch 99/120\n",
            "249/249 [==============================] - 1s 3ms/step - loss: 0.3536 - accuracy: 0.8499\n",
            "Epoch 100/120\n",
            "249/249 [==============================] - 1s 3ms/step - loss: 0.3535 - accuracy: 0.8515\n",
            "Epoch 101/120\n",
            "249/249 [==============================] - 1s 3ms/step - loss: 0.3534 - accuracy: 0.8514\n",
            "Epoch 102/120\n",
            "249/249 [==============================] - 1s 3ms/step - loss: 0.3531 - accuracy: 0.8504\n",
            "Epoch 103/120\n",
            "249/249 [==============================] - 0s 2ms/step - loss: 0.3534 - accuracy: 0.8515\n",
            "Epoch 104/120\n",
            "249/249 [==============================] - 0s 2ms/step - loss: 0.3535 - accuracy: 0.8527\n",
            "Epoch 105/120\n",
            "249/249 [==============================] - 0s 2ms/step - loss: 0.3533 - accuracy: 0.8513\n",
            "Epoch 106/120\n",
            "249/249 [==============================] - 0s 2ms/step - loss: 0.3531 - accuracy: 0.8527\n",
            "Epoch 107/120\n",
            "249/249 [==============================] - 0s 2ms/step - loss: 0.3534 - accuracy: 0.8524\n",
            "Epoch 108/120\n",
            "249/249 [==============================] - 0s 2ms/step - loss: 0.3534 - accuracy: 0.8517\n",
            "Epoch 109/120\n",
            "249/249 [==============================] - 1s 2ms/step - loss: 0.3531 - accuracy: 0.8525\n",
            "Epoch 110/120\n",
            "249/249 [==============================] - 0s 2ms/step - loss: 0.3532 - accuracy: 0.8518\n",
            "Epoch 111/120\n",
            "249/249 [==============================] - 0s 2ms/step - loss: 0.3531 - accuracy: 0.8512\n",
            "Epoch 112/120\n",
            "249/249 [==============================] - 0s 2ms/step - loss: 0.3528 - accuracy: 0.8524\n",
            "Epoch 113/120\n",
            "249/249 [==============================] - 0s 2ms/step - loss: 0.3533 - accuracy: 0.8517\n",
            "Epoch 114/120\n",
            "249/249 [==============================] - 0s 2ms/step - loss: 0.3528 - accuracy: 0.8522\n",
            "Epoch 115/120\n",
            "249/249 [==============================] - 0s 2ms/step - loss: 0.3529 - accuracy: 0.8535\n",
            "Epoch 116/120\n",
            "249/249 [==============================] - 0s 2ms/step - loss: 0.3527 - accuracy: 0.8528\n",
            "Epoch 117/120\n",
            "249/249 [==============================] - 0s 2ms/step - loss: 0.3536 - accuracy: 0.8515\n",
            "Epoch 118/120\n",
            "249/249 [==============================] - 0s 2ms/step - loss: 0.3529 - accuracy: 0.8520\n",
            "Epoch 119/120\n",
            "249/249 [==============================] - 0s 2ms/step - loss: 0.3529 - accuracy: 0.8533\n",
            "Epoch 120/120\n",
            "249/249 [==============================] - 0s 2ms/step - loss: 0.3532 - accuracy: 0.8514\n"
          ]
        },
        {
          "output_type": "execute_result",
          "data": {
            "text/plain": [
              "<keras.callbacks.History at 0x7d6aa8405120>"
            ]
          },
          "metadata": {},
          "execution_count": 14
        }
      ]
    },
    {
      "cell_type": "markdown",
      "source": [
        "\n",
        "```\n",
        "# ANN Code Explanation\n",
        "```"
      ],
      "metadata": {
        "id": "A5LxKDwpZ2Uu"
      }
    },
    {
      "cell_type": "markdown",
      "source": [
        "1. `ann = tf.keras.models.Sequential()`: This line initializes a sequential model in Keras. A sequential model is a linear stack of layers, where you can add one layer at a time.\n",
        "\n",
        "2. `ann.add(tf.keras.layers.Dense(units = 6, activation = 'relu'))`: This line adds the first dense (fully connected) layer to the neural network. Here's what the arguments mean:\n",
        "   - `units = 6`: This specifies that the layer should have 6 neurons or units. The number of units in a layer is a hyperparameter and can be adjusted based on the problem at hand.\n",
        "   - `activation = 'relu'`: The Rectified Linear Unit (ReLU) activation function is used in this layer. It's a common choice for hidden layers in neural networks. ReLU introduces non-linearity into the model.\n",
        "\n",
        "3. `ann.add(tf.keras.layers.Dense(units = 6, activation = 'relu'))`: This line adds another hidden layer with 6 units and ReLU activation. Multiple hidden layers can help the network learn complex patterns in the data.\n",
        "\n",
        "4. `ann.add(tf.keras.layers.Dense(units = 1, activation = 'sigmoid'))`: This line adds the output layer to the neural network. Here:\n",
        "   - `units = 1`: This indicates a single neuron in the output layer, which suggests that this network might be used for a binary classification task (e.g., 0 or 1).\n",
        "   - `activation = 'sigmoid'`: The sigmoid activation function is used in the output layer, which is common for binary classification. It squashes the output to a range between 0 and 1, representing the probability of the positive class.\n",
        "\n",
        "5. `ann.compile(optimizer = 'adam', loss = 'binary_crossentropy', metrics = ['accuracy'])`: This line compiles the neural network, specifying:\n",
        "   - `optimizer = 'adam'`: Adam is a popular optimization algorithm used for training neural networks. It adapts the learning rate during training.\n",
        "   - `loss = 'binary_crossentropy'`: This is the loss function used for binary classification tasks. It measures the error between the predicted values and the actual target values.\n",
        "   - `metrics = ['accuracy']`: During training, it will track and display the accuracy as a metric.\n",
        "\n",
        "6. `ann.fit(X_train, y_train, batch_size = 32, epochs = 120)`: This line trains the neural network:\n",
        "   - `X_train` and `y_train` are assumed to be the training data and labels.\n",
        "   - `batch_size = 32`: It specifies that the training data should be divided into batches of size 32 for each iteration of training. This is a common practice to improve training efficiency.\n",
        "   - `epochs = 120`: It specifies the number of training iterations (epochs) to run. The model will go through the entire training dataset 120 times to learn the patterns in the data.\n",
        "\n",
        "Overall, this code defines a simple feedforward neural network with two hidden layers and an output layer for binary classification. It uses the Adam optimizer, binary cross-entropy loss, and accuracy as the evaluation metric for training. The specific architecture and hyperparameters can be adjusted based on the problem"
      ],
      "metadata": {
        "id": "6S3n-t5UZuRE"
      }
    },
    {
      "cell_type": "markdown",
      "metadata": {
        "id": "YDjEXibj22y8"
      },
      "source": [
        "# Predictions"
      ]
    },
    {
      "cell_type": "markdown",
      "metadata": {
        "id": "8KQtJPsR28Km"
      },
      "source": [
        "### Single Prediction"
      ]
    },
    {
      "cell_type": "code",
      "source": [
        "print(ann.predict(sc.transform([[0.0, 1.0, 0.0, 501, 0, 32, 2, 0.0, 4, 1, 545501]])) > 0.5)"
      ],
      "metadata": {
        "colab": {
          "base_uri": "https://localhost:8080/"
        },
        "id": "jeHfvMlHbQHg",
        "outputId": "327895c2-8c47-4c5c-a8e7-8934c0cfd08f"
      },
      "execution_count": 16,
      "outputs": [
        {
          "output_type": "stream",
          "name": "stdout",
          "text": [
            "1/1 [==============================] - 0s 146ms/step\n",
            "[[False]]\n"
          ]
        }
      ]
    },
    {
      "cell_type": "markdown",
      "metadata": {
        "id": "0HxpzoQo2_Gf"
      },
      "source": [
        "### Predication on testset"
      ]
    },
    {
      "cell_type": "code",
      "source": [
        "y_pred = ann.predict(X_test)\n",
        "y_pred = (y_pred > 0.5)\n",
        "print(np.concatenate((y_pred.reshape(len(y_pred),1), y_test.reshape(len(y_test),1)),1))"
      ],
      "metadata": {
        "colab": {
          "base_uri": "https://localhost:8080/"
        },
        "id": "jdNRpTkqbd5l",
        "outputId": "2bfc35bd-09cc-4e2c-dd0e-29a198977cae"
      },
      "execution_count": 18,
      "outputs": [
        {
          "output_type": "stream",
          "name": "stdout",
          "text": [
            "63/63 [==============================] - 0s 2ms/step\n",
            "[[0 0]\n",
            " [1 0]\n",
            " [1 1]\n",
            " ...\n",
            " [1 1]\n",
            " [0 0]\n",
            " [0 0]]\n"
          ]
        }
      ]
    },
    {
      "cell_type": "markdown",
      "metadata": {
        "id": "_YpFOI9d3C-5"
      },
      "source": [
        "### Confusion Matrix"
      ]
    },
    {
      "cell_type": "code",
      "source": [
        "from sklearn.metrics import confusion_matrix, accuracy_score\n",
        "cm = confusion_matrix(y_test, y_pred)\n",
        "print(cm)\n",
        "accuracy_score(y_test, y_pred)"
      ],
      "metadata": {
        "colab": {
          "base_uri": "https://localhost:8080/"
        },
        "id": "Zwg-KiypcA4u",
        "outputId": "7fc4e799-c72d-44e6-e78d-0dd9aedc4136"
      },
      "execution_count": 22,
      "outputs": [
        {
          "output_type": "stream",
          "name": "stdout",
          "text": [
            "[[1536   66]\n",
            " [ 225  159]]\n"
          ]
        },
        {
          "output_type": "execute_result",
          "data": {
            "text/plain": [
              "0.8534743202416919"
            ]
          },
          "metadata": {},
          "execution_count": 22
        }
      ]
    }
  ]
}